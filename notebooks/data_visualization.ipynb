{
 "cells": [
  {
   "cell_type": "code",
   "execution_count": null,
   "metadata": {},
   "outputs": [],
   "source": [
    "from src.data.dataset import RoadSegDataModule\n",
    "import matplotlib.pyplot as plt"
   ]
  },
  {
   "cell_type": "code",
   "execution_count": null,
   "metadata": {},
   "outputs": [],
   "source": [
    "data_dir = \"../data\"\n",
    "\n",
    "dm = RoadSegDataModule(data_dir=data_dir, batch_size=8)\n",
    "dm.prepare_data()\n",
    "dm.setup()"
   ]
  },
  {
   "cell_type": "code",
   "execution_count": null,
   "metadata": {},
   "outputs": [],
   "source": [
    "images, masks = next(iter(dm.train_dataloader()))\n",
    "print(f\"image shape: {images.shape}, dtype: {images.dtype}\")\n",
    "print(f\"mask shape: {masks.shape}, dtype: {masks.dtype}\")\n",
    "\n",
    "fig, axes = plt.subplots(len(images),2,figsize=(10,40))\n",
    "for i, (image, mask) in enumerate(zip(images, masks)):\n",
    "    axes[i, 0].imshow(image.permute(1,2,0))\n",
    "    axes[i, 1].imshow(mask)\n",
    "    axes[i, 0].set_axis_off()\n",
    "    axes[i, 1].set_axis_off()"
   ]
  }
 ],
 "metadata": {
  "interpreter": {
   "hash": "f9d7da4be4cedad2f9939363e86f837d348de9b2e5ef2cce706518596b5dbc06"
  },
  "kernelspec": {
   "display_name": "Python 3.10.0 ('cil')",
   "language": "python",
   "name": "python3"
  },
  "language_info": {
   "codemirror_mode": {
    "name": "ipython",
    "version": 3
   },
   "file_extension": ".py",
   "mimetype": "text/x-python",
   "name": "python",
   "nbconvert_exporter": "python",
   "pygments_lexer": "ipython3",
   "version": "3.10.0"
  },
  "orig_nbformat": 4
 },
 "nbformat": 4,
 "nbformat_minor": 2
}
